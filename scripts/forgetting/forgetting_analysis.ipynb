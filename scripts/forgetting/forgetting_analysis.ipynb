{
 "cells": [
  {
   "cell_type": "code",
   "execution_count": 2,
   "metadata": {},
   "outputs": [],
   "source": [
    "import cbm_pack.cbm_pack as cbm_pack\n",
    "import numpy as np\n",
    "import matplotlib as mpl\n",
    "import matplotlib.pyplot as plt\n",
    "from matplotlib.patches import Rectangle\n",
    "from matplotlib.colors import colorConverter\n",
    "from matplotlib.collections import LineCollection\n",
    "from mpl_toolkits.mplot3d import Axes3D"
   ]
  },
  {
   "cell_type": "code",
   "execution_count": 11,
   "metadata": {},
   "outputs": [],
   "source": [
    "extensions = {\n",
    "    \"mf_raster\" : \".mfr\",\n",
    "    \"gr_raster\" : \".grr\",\n",
    "    \"go_raster\" : \".gor\",\n",
    "    \"pc_raster\" : \".pcr\",\n",
    "    \"bc_raster\" : \".bcr\",\n",
    "    \"sc_raster\" : \".scr\",\n",
    "    \"nc_raster\" : \".ncr\",\n",
    "    \"io_raster\" : \".ior\",\n",
    "    \"mf_psth\" : \".mfp\", \n",
    "    \"gr_psth\" : \".grp\",\n",
    "    \"go_psth\" : \".gop\",\n",
    "    \"pc_psth\" : \".pcp\",\n",
    "    \"bc_psth\" : \".bcp\",\n",
    "    \"sc_psth\" : \".scp\",\n",
    "    \"nc_psth\" : \".ncp\",\n",
    "    \"io_psth\" : \".iop\",\n",
    "    \"pfpc_weights\" : \".pfpcw\",\n",
    "    \"mfnc_weights\" : \".mfncw\"\n",
    "}\n",
    "cell_nums = {\n",
    "    \"mf\" : 4096,\n",
    "    \"gr\" : 2 ** 20,\n",
    "    \"go\" : 4096,\n",
    "    \"pc\" : 32,\n",
    "    \"bc\" : 128,\n",
    "    \"sc\" : 512,\n",
    "    \"nc\" : 8,\n",
    "    \"io\" : 4\n",
    "}"
   ]
  },
  {
   "cell_type": "code",
   "execution_count": null,
   "metadata": {},
   "outputs": [],
   "source": [
    "MAX_CR_AMP = 6\n",
    "PRE_CS_COLLECT_TS = 400\n",
    "POST_CS_COLLECT_TS = 400\n",
    "ISIS = np.array([150, 200, 250, 500, 750, 1000, 1250, 1500, 1750, 2000])\n",
    "ISI = 1500\n",
    "NUM_COLLECT_TRIALS = 1000 \n",
    "NUM_COLLECT_TS = PRE_CS_COLLECT_TS + ISI + POST_CS_COLLECT_TS\n",
    "INPUT_DIR = \"./data/inputs/Forgetting/\"\n",
    "OUTPUT_DIR = \"./data/outputs/Forgetting/\"\n",
    "INPUT_BASE = f\"acq_no_probe_ISI_{ISI}\"\n",
    "INPUT_PC_FILE = INPUT_DIR + INPUT_BASE + \"/\" + INPUT_BASE + extensions[\"pc_raster\"]\n",
    "INPUT_NC_FILE = INPUT_DIR + INPUT_BASE + \"/\" + INPUT_BASE + extensions[\"nc_raster\"]"
   ]
  },
  {
   "cell_type": "markdown",
   "metadata": {},
   "source": [
    "# Acquisition Analysis\n",
    "\n",
    "## Acquisition from Data Collected on all trials\n",
    "\n",
    "- for ISI less than 1000, 500 paired trials were run: for 1000 and above, 1000 paired trials were run\n",
    "- pc and nc raster data were collected during every trial\n",
    "\n",
    "## Analysis Outline\n",
    "\n",
    "- compute the CRs for every isi, every trial, every ts\n",
    "- plot the time series (across trials) of the maximum CR for every ISI\n",
    "- within the plot, as to avoid too many data points, sample every 10 or so data points"
   ]
  },
  {
   "cell_type": "code",
   "execution_count": null,
   "metadata": {},
   "outputs": [],
   "source": [
    "def plot_acq_all_isi_from_nc_use_cr_amp(isis: np.ndarray, method=\"mike\"):\n",
    "    num_collect_trials = 500\n",
    "    fig = plt.figure()\n",
    "    fig.suptitle(\"Acquisition: CR Amplitude\", fontsize=14)\n",
    "    fig.patch.set_facecolor('white')\n",
    "    ax = plt.subplot(111)\n",
    "    ax.set_xlabel('trial num', fontsize=12)\n",
    "    ax.set_ylabel('eyelid closure (mm)', fontsize=12)\n",
    "    \n",
    "    for isi in isis:\n",
    "        num_collect_ts = PRE_CS_COLLECT_TS + isi + POST_CS_COLLECT_TS\n",
    "        if isi > 750:\n",
    "            num_collect_trials = 1000\n",
    "        input_base = f\"acq_no_probe_ISI_{isi}\"\n",
    "        input_nc_file = INPUT_DIR + input_base + \"/\" + input_base + extensions[\"nc_raster\"]\n",
    "        nc_rasters = cbm_pack.np_arr_from_file(input_nc_file, np.uint8)\n",
    "        nc_rasters = cbm_pack.reshape_raster( \\\n",
    "                nc_rasters, \\\n",
    "                cell_nums[\"nc\"], \\\n",
    "                num_collect_trials, \\\n",
    "                num_collect_ts)\n",
    "        if method == \"mike\":\n",
    "            nc_crs = cbm_pack.ncs_to_cr_mike(nc_rasters)\n",
    "        elif method == \"sean\":\n",
    "            nc_crs = cbm_pack.ncs_to_cr_sean(nc_rasters, \\\n",
    "                PRE_CS_COLLECT_TS, \\\n",
    "                POST_CS_COLLECT_TS, \\\n",
    "                isi)\n",
    "        trials_to_plot = np.arange(0, num_trials, 10)\n",
    "        crs_to_plot = nc_crs[trials_to_plot]\n",
    "        crs_to_plot = np.max(crs_to_plot, axis=1)\n",
    "        # boilerplate matplotlib code\n",
    "        if isi <= 1250:\n",
    "            plt.plot(trials_to_plot, crs_to_plot, 'o-', markersize=2.0, linewidth=1.0, label=f'{isi}')\n",
    "        else:\n",
    "            plt.plot(trials_to_plot, crs_to_plot, 'o', markersize=2.0, label=f'{isi}')\n",
    "    ax.legend(loc='center right', bbox_to_anchor=(1.20, 0.5))\n",
    "    plt.ylim((0, MAX_CR_AMP+1))\n",
    "    plt.tight_layout()\n",
    "    plt.show()\n",
    "    plt.close(fig)\n",
    "\n",
    "def plot_acq_all_isi_from_pc_use_cr_amp(isis: np.ndarray):\n",
    "    num_collect_trials = 500\n",
    "    fig = plt.figure()\n",
    "    fig.suptitle(\"Acquisition: CR Amplitude\", fontsize=14)\n",
    "    fig.patch.set_facecolor('white')\n",
    "    ax = plt.subplot(111)\n",
    "    ax.set_xlabel('trial num', fontsize=12)\n",
    "    ax.set_ylabel('eyelid closure (mm)', fontsize=12)\n",
    "    \n",
    "    for isi in isis:\n",
    "        num_collect_ts = PRE_CS_COLLECT_TS + isi + POST_CS_COLLECT_TS\n",
    "        if isi > 750:\n",
    "            num_collect_trials = 1000\n",
    "        input_base = f\"acq_no_probe_ISI_{isi}\"\n",
    "        input_pc_file = INPUT_DIR + input_base + \"/\" + input_base + extensions[\"pc_raster\"]\n",
    "        pc_rasters = cbm_pack.np_arr_from_file(input_pc_file, np.uint8)\n",
    "        pc_rasters = cbm_pack.reshape_raster( \\\n",
    "                pc_rasters, \\\n",
    "                cell_nums[\"pc\"], \\\n",
    "                num_collect_trials, \\\n",
    "                num_collect_ts)\n",
    "        pc_crs = cbm_pack.pcs_to_crs(pc_rasters, PRE_CS_COLLECT_TS, POST_CS_COLLECT_TS, isi)\n",
    "        trials_to_plot = np.arange(0, num_collect_trials, 10)\n",
    "        crs_to_plot = pc_crs[trials_to_plot]\n",
    "        crs_to_plot = np.max(crs_to_plot, axis=1)\n",
    "        # boilerplate matplotlib code\n",
    "        if isi <= 1250:\n",
    "            plt.plot(trials_to_plot, crs_to_plot, 'o-', markersize=2.0, linewidth=1.0, label=f'{isi}')\n",
    "        else:\n",
    "            plt.plot(trials_to_plot, crs_to_plot, 'o', markersize=2.0, label=f'{isi}')\n",
    "    ax.legend(loc='center right', bbox_to_anchor=(1.20, 0.5))\n",
    "    plt.ylim((0, MAX_CR_AMP+1))\n",
    "    plt.tight_layout()\n",
    "    plt.show()\n",
    "    plt.close(fig)\n",
    "\n",
    "\n",
    "def plot_acq_all_isi_from_pc_use_cr_amp_avg_probe(isis: np.ndarray):\n",
    "    num_train_trials = 500\n",
    "    num_collect_trials = 500\n",
    "    num_blocks_per_session = 50\n",
    "    num_train_trials_per_b =  num_train_trials // num_blocks_per_session\n",
    "    num_collect_trials_per_b =  num_collect_trials // num_blocks_per_session\n",
    "    fig = plt.figure()\n",
    "    fig.suptitle(\"Acquisition: CR Amplitude\", fontsize=14)\n",
    "    fig.patch.set_facecolor('white')\n",
    "    ax = plt.subplot(111)\n",
    "    ax.set_xlabel('trial num', fontsize=12)\n",
    "    ax.set_ylabel('eyelid closure (mm)', fontsize=12)\n",
    "    \n",
    "    for isi in isis:\n",
    "        num_collect_ts = PRE_CS_COLLECT_TS + isi + POST_CS_COLLECT_TS\n",
    "        if isi > 750:\n",
    "            num_train_trials = 1000\n",
    "            num_collect_trials = 1000\n",
    "            num_blocks_per_session = 100\n",
    "            num_train_trials_per_b =  num_train_trials // num_blocks_per_session\n",
    "            num_collect_trials_per_b =  num_collect_trials // num_blocks_per_session\n",
    "        input_base = f\"acq_10_train_10_probe_ISI_{isi}\"\n",
    "        input_pc_file = INPUT_DIR + input_base + \"/\" + input_base + extensions[\"pc_raster\"]\n",
    "        pc_rasters = cbm_pack.np_arr_from_file(input_pc_file, np.uint8)\n",
    "        pc_rasters = cbm_pack.reshape_raster( \\\n",
    "                pc_rasters, \\\n",
    "                cell_nums[\"pc\"], \\\n",
    "                num_collect_trials, \\\n",
    "                num_collect_ts)\n",
    "        pc_crs = cbm_pack.pcs_to_crs(pc_rasters, PRE_CS_COLLECT_TS, POST_CS_COLLECT_TS, isi)\n",
    "        trials_to_plot = np.arange(num_train_trials_per_b, num_train_trials + num_train_trials_per_b, num_train_trials_per_b) # every 100 trials ran 50 probe trials\n",
    "        mean_crs_blocks = np.zeros(num_blocks_per_session)\n",
    "        trial_start = 0\n",
    "        trial_end = num_collect_trials_per_b\n",
    "        for i in np.arange(num_blocks_per_session):\n",
    "                mean_crs_blocks[i] = np.mean(np.max(pc_crs[trial_start:trial_end], axis=1))\n",
    "                trial_start += num_collect_trials_per_b\n",
    "                trial_end += num_collect_trials_per_b\n",
    "        # boilerplate matplotlib code\n",
    "        if isi <= 1250:\n",
    "            plt.plot(trials_to_plot, mean_crs_blocks, 'o-', markersize=2.0, linewidth=1.0, label=f'{isi}')\n",
    "        else:\n",
    "            plt.plot(trials_to_plot, mean_crs_blocks, 'o', markersize=2.0, label=f'{isi}')\n",
    "    ax.legend(loc='center right', bbox_to_anchor=(1.20, 0.5))\n",
    "    plt.ylim((0, MAX_CR_AMP+1))\n",
    "    plt.tight_layout()\n",
    "    plt.show()\n",
    "    plt.close(fig)"
   ]
  },
  {
   "cell_type": "markdown",
   "metadata": {},
   "source": [
    "## Method Sean\n",
    "- Criterion: DCN fr goes above baseline + 10Hz\n",
    "- baseline is computed by taking middle half of the pre-cs period\n",
    "    - ie if pre cs collection period is 400, then baseline is computed as \n",
    "      the average over timesteps 100 to 300\n",
    "- amplitude is computed by taking maximum within the ISI before and subtracting criterion\n",
    "\n",
    "- NOTE: gives CRs for every trial because our criterion (10Hz above base) is satisfied even\n",
    "  from the first trial for most ISIs"
   ]
  },
  {
   "cell_type": "code",
   "execution_count": null,
   "metadata": {},
   "outputs": [],
   "source": [
    "plot_acq_all_isi_from_nc_use_cr_amp(ISIS, method=\"sean\")"
   ]
  },
  {
   "cell_type": "markdown",
   "metadata": {},
   "source": [
    "## Method Mike\n",
    "\n",
    "- there is no criterion: cr amplitude is computed from nc via:\n",
    "    - integrating all nc activity into an excitatory Red nucleus cell's membrane potential\n",
    "    - that membrane potential is then modified by scaling, dropping out little wigglies close to zero, and scaling\n",
    "- need to threshold: CR only if final result is greater than 0.3"
   ]
  },
  {
   "cell_type": "code",
   "execution_count": null,
   "metadata": {},
   "outputs": [],
   "source": [
    "plot_acq_all_isi_from_nc_use_cr_amp(ISIS, method=\"mike\")"
   ]
  },
  {
   "cell_type": "markdown",
   "metadata": {},
   "source": [
    "## Method Joe (ie CR Amp from Purkinje Cells)\n",
    "\n",
    "- Criterion: mean, smoothed PC cell firing rates fall below 80% baseline firing rates\n",
    "- not every trial gives CRs, ISIs 150 - 750 learn quite robustly, 1000 and 1250 learn\n",
    "  but with widely varying amplitudes, 1500 and 1750 somewhat learn, 2000 does not learn\n",
    "  essentially at all"
   ]
  },
  {
   "cell_type": "code",
   "execution_count": null,
   "metadata": {},
   "outputs": [],
   "source": [
    "plot_acq_all_isi_from_pc_use_cr_amp(np.array([150, 200, 250, 500]))"
   ]
  },
  {
   "cell_type": "markdown",
   "metadata": {},
   "source": [
    "## Acquisition from Data Collected on Probe Trials alone\n",
    "\n",
    "- for ISI less than 1000, 500 paired trials and 250 probe trials were ran: for 1000 and above, 1000 paired trials and 500 probe trials were run\n",
    "- training was run in blocks of 100 paired CS-US trials and 50 probe trials (CS-Alone, pfpc plasticity off)\n",
    "- pc and nc raster data were collected only during probe trials\n",
    "\n",
    "## Analysis Outline\n",
    "\n",
    "- compute the CRs for every isi, every trial, every ts\n",
    "- Create an array of the maxima across the number of probe trials within a block (here across 50 trials)\n",
    "- average over these mixima to produce a single, mean maximum across 50 probe trials\n",
    "- plot each of these \"mean maxima\" at the point at which each group of 50 probe trials began (so at paired trials 100, 200, 300, etc.)\n",
    "\n",
    "UPDATE 07/07/2023: trained again using same equilibriated simulations as all runs before, but with alternating batches of 10 train, 10 probe trials"
   ]
  },
  {
   "cell_type": "code",
   "execution_count": null,
   "metadata": {},
   "outputs": [],
   "source": [
    "plot_acq_all_isi_from_pc_use_cr_amp_avg_probe(np.array([150, 200, 250, 500]))"
   ]
  },
  {
   "cell_type": "markdown",
   "metadata": {},
   "source": [
    "# Acquisition Onset Times"
   ]
  },
  {
   "cell_type": "code",
   "execution_count": null,
   "metadata": {},
   "outputs": [],
   "source": [
    "def plot_onset_times_all_isi_from(isis: np.ndarray, input_type: str):\n",
    "    num_collect_trials = 500\n",
    "    fig = plt.figure()\n",
    "    fig.suptitle(\"CR Onset Times\", fontsize=14)\n",
    "    fig.patch.set_facecolor('white')\n",
    "    ax = plt.subplot(111)\n",
    "    ax.set_xlabel('trial num', fontsize=12)\n",
    "    ax.set_ylabel('onset time (ms)', fontsize=12)\n",
    "    \n",
    "    for isi in isis:\n",
    "        num_collect_ts = PRE_CS_COLLECT_TS + isi + POST_CS_COLLECT_TS\n",
    "        if isi > 750:\n",
    "            num_collect_trials = 1000\n",
    "        input_base = f\"acq_no_probe_ISI_{isi}\"\n",
    "        if input_type == \"pc\":\n",
    "            input_pc_file = INPUT_DIR + input_base + \"/\" + input_base + extensions[\"pc_raster\"]\n",
    "            pc_rasters = cbm_pack.np_arr_from_file(input_pc_file, np.uint8)\n",
    "            pc_rasters = cbm_pack.reshape_raster( \\\n",
    "                    pc_rasters, \\\n",
    "                    cell_nums[\"pc\"], \\\n",
    "                    num_collect_trials, \\\n",
    "                    num_collect_ts)\n",
    "            onset_times = cbm_pack.calc_cr_onsets_from_pc( \\\n",
    "                pc_rasters,\n",
    "                PRE_CS_COLLECT_TS,\n",
    "                isi)\n",
    "        elif input_type == \"nc\":\n",
    "            input_nc_file = INPUT_DIR + input_base + \"/\" + input_base + extensions[\"nc_raster\"]\n",
    "            nc_rasters = cbm_pack.np_arr_from_file(input_nc_file, np.uint8)\n",
    "            nc_rasters = cbm_pack.reshape_raster( \\\n",
    "                    nc_rasters, \\\n",
    "                    cell_nums[\"nc\"], \\\n",
    "                    num_collect_trials, \\\n",
    "                    num_collect_ts)\n",
    "            onset_times = cbm_pack.calc_cr_onsets_from_nc( \\\n",
    "                nc_rasters,\n",
    "                PRE_CS_COLLECT_TS,\n",
    "                isi)\n",
    "        else:\n",
    "            raise ValueError(f\"expected positional parameter 'input_type' to be either 'pc' or 'nc'. Got '{input_type}'\")\n",
    "        trials_to_plot = np.arange(0, num_collect_trials, 20)\n",
    "        onset_times_to_plot = onset_times[trials_to_plot] + PRE_CS_COLLECT_TS\n",
    "        # boilerplate matplotlib code\n",
    "        if isi <= 750:\n",
    "            plt.plot(trials_to_plot, onset_times_to_plot, 'o-', markersize=2.0, linewidth=1.0, label=f'{isi}')\n",
    "        else:\n",
    "            plt.plot(trials_to_plot, onset_times_to_plot, 'o', markersize=2.0, label=f'{isi}')\n",
    "\n",
    "    ax.legend(loc='center right', bbox_to_anchor=(1.20, 0.5))\n",
    "    plt.ylim((0, PRE_CS_COLLECT_TS + isis[-1] + POST_CS_COLLECT_TS))\n",
    "    plt.tight_layout()\n",
    "    plt.show()\n",
    "    plt.close(fig)"
   ]
  },
  {
   "cell_type": "code",
   "execution_count": null,
   "metadata": {},
   "outputs": [],
   "source": [
    "plot_onset_times_all_isi_from(ISIS, \"pc\")"
   ]
  },
  {
   "cell_type": "code",
   "execution_count": null,
   "metadata": {},
   "outputs": [],
   "source": [
    "plot_onset_times_all_isi_from(ISIS, \"nc\") # latest CR onset times from nc computed with threshold 40Hz above base"
   ]
  },
  {
   "cell_type": "markdown",
   "metadata": {},
   "source": [
    "# Acqusition CR Probabilities"
   ]
  },
  {
   "cell_type": "code",
   "execution_count": null,
   "metadata": {},
   "outputs": [],
   "source": [
    "def plot_acq_all_isi_from_pc_use_cr_prob(isis: np.ndarray):\n",
    "    num_collect_trials = 500\n",
    "    fig = plt.figure()\n",
    "    fig.suptitle(\"Acquisition: CR Probabilities\", fontsize=14)\n",
    "    fig.patch.set_facecolor('white')\n",
    "    ax = plt.subplot(111)\n",
    "    ax.set_xlabel('trial num', fontsize=12)\n",
    "    ax.set_ylabel('% CR', fontsize=12)\n",
    "    num_avg_over = 10\n",
    "    for isi in isis:\n",
    "        num_collect_ts = PRE_CS_COLLECT_TS + isi + POST_CS_COLLECT_TS\n",
    "        if isi > 750:\n",
    "            num_collect_trials = 1000\n",
    "        input_base = f\"acq_no_probe_ISI_{isi}\"\n",
    "        input_pc_file = INPUT_DIR + input_base + \"/\" + input_base + extensions[\"pc_raster\"]\n",
    "        pc_rasters = cbm_pack.np_arr_from_file(input_pc_file, np.uint8)\n",
    "        pc_rasters = cbm_pack.reshape_raster( \\\n",
    "                pc_rasters, \\\n",
    "                cell_nums[\"pc\"], \\\n",
    "                num_collect_trials, \\\n",
    "                num_collect_ts)\n",
    "        cr_probs = cbm_pack.calc_cr_probs_from_pc(pc_rasters, \\\n",
    "            PRE_CS_COLLECT_TS, \\\n",
    "            isi, \\\n",
    "            num_avg_over)\n",
    "        trials_to_plot = np.arange(0, num_collect_trials, num_avg_over)\n",
    "        # boilerplate matplotlib code\n",
    "        if isi <= 1250:\n",
    "            plt.plot(trials_to_plot, cr_probs, 'o-', markersize=2.0, linewidth=1.0, label=f'{isi}')\n",
    "        else:\n",
    "            plt.plot(trials_to_plot, cr_probs, 'o', markersize=2.0, label=f'{isi}')\n",
    "    ax.legend(loc='center right', bbox_to_anchor=(1.20, 0.5))\n",
    "    plt.ylim((0, 1.25))\n",
    "    plt.tight_layout()\n",
    "    plt.show()\n",
    "    plt.close(fig)"
   ]
  },
  {
   "cell_type": "code",
   "execution_count": null,
   "metadata": {},
   "outputs": [],
   "source": [
    "\n",
    "INPUT_PC_FILE = INPUT_DIR + INPUT_BASE + \"/\" + INPUT_BASE + extensions[\"pc_raster\"]\n",
    "pc_rasters = cbm_pack.np_arr_from_file(INPUT_PC_FILE, np.uint8)\n",
    "pc_rasters = cbm_pack.reshape_raster( \\\n",
    "        pc_rasters, \\\n",
    "        cell_nums[\"pc\"], \\\n",
    "        NUM_COLLECT_TRIALS, \\\n",
    "        NUM_COLLECT_TS)\n",
    "cr_probs = cbm_pack.calc_cr_probs_from_pc(pc_rasters, \\\n",
    "    PRE_CS_COLLECT_TS, \\\n",
    "    ISI, \\\n",
    "    10)\n",
    "#inst_frs = cbm_pack.calc_inst_fire_rates_from(nc_rasters)\n",
    "#mean_inst_frs = np.mean(inst_frs, axis=0)\n",
    "#smooth_mean_inst_frs = cbm_pack.calc_smooth_mean_frs(mean_inst_frs, kernel_type=\"gaussian\")\n",
    "\n",
    "#cr_probs = cbm_pack.calc_cr_probs_from_nc(nc_rasters, \\\n",
    "#    PRE_CS_COLLECT_TS, \\\n",
    "#    ISI, \\\n",
    "#    10)\n"
   ]
  },
  {
   "cell_type": "code",
   "execution_count": null,
   "metadata": {},
   "outputs": [],
   "source": [
    "print(cr_probs)"
   ]
  },
  {
   "cell_type": "code",
   "execution_count": null,
   "metadata": {},
   "outputs": [],
   "source": [
    "plot_acq_all_isi_from_pc_use_cr_prob(ISIS)"
   ]
  },
  {
   "cell_type": "markdown",
   "metadata": {},
   "source": [
    "### Debugging % CR and onset times computed from NCs\n",
    "\n",
    "- What was wrong?\n",
    "    - Every trial constituted a CR because the MF has a strong influence on the CS period\n",
    "      fr of the DCN neurons, and so mean, smoothed fr was reaching criterion (baseline + 10Hz) immediately\n",
    "    - so onset times were essentially all at cs onset, and cr probabilities were all 1% from the start\n",
    "- conclusion:\n",
    "    - for our current NC population fr distribution (wrt time), PC's are a better measure of CR %, esp given\n",
    "      we have not averaged percentages over multiple runs at the same ISI yet"
   ]
  },
  {
   "cell_type": "code",
   "execution_count": null,
   "metadata": {},
   "outputs": [],
   "source": [
    "def plot_mean_smooth_fr_at_trial(smooth_fr_data, trial):\n",
    "    # plot the PSTH for this cell\n",
    "    fig = plt.figure()\n",
    "    fig.suptitle(f\"mean smoothed fr at trial {trial}\", fontsize=14)\n",
    "    ax_1 = plt.subplot(111)\n",
    "    ax_1.add_patch(Rectangle((PRE_CS_COLLECT_TS, 0), ISI, 160, color='black', alpha=0.1, edgecolor=None))\n",
    "    \n",
    "    # boilerplate matplotlib code\n",
    "    plt.plot(smooth_fr_data[trial], color='black', linewidth=1.5)\n",
    "    plt.xlim((50, NUM_COLLECT_TS - 50))\n",
    "    plt.ylim((0, 160))\n",
    "    fig.patch.set_facecolor('white')\n",
    "    ax_1.set_xlabel('trial time (ms)', fontsize=12)\n",
    "    ax_1.set_ylabel('rate', fontsize=12)\n",
    "    plt.show()\n",
    "    plt.close(fig)"
   ]
  },
  {
   "cell_type": "code",
   "execution_count": null,
   "metadata": {},
   "outputs": [],
   "source": [
    "trial = 506\n",
    "print(np.mean(smooth_mean_inst_frs[trial, 100:300]))\n",
    "print(np.max(smooth_mean_inst_frs[trial, PRE_CS_COLLECT_TS:PRE_CS_COLLECT_TS+ISI]))\n",
    "plot_mean_smooth_fr_at_trial(smooth_mean_inst_frs, trial)"
   ]
  },
  {
   "cell_type": "markdown",
   "metadata": {},
   "source": [
    "# Background Analysis\n",
    "\n",
    "## Outline\n",
    "- for each isi:\n",
    "- for each block of num_background_trials and num_probe_trials:\n",
    "- compute the average CR amplitude over num_probe_trials\n",
    "- keep track of the collected CR amps computed so far\n",
    "- plot all the CR amps, where the x-axis will be the trial number just before probe trials began"
   ]
  },
  {
   "cell_type": "code",
   "execution_count": null,
   "metadata": {},
   "outputs": [],
   "source": [
    "def plot_forget_all_isi_from_pc_use_cr_amp(isis: np.ndarray, num_bkgd_trials: int, num_bkgd_trials_per_b: int, \\\n",
    "                                       pre_cs_collect_ts: int, post_cs_collect_ts: int, \\\n",
    "                                       input_dir: str, input_base: str, num_probe_trials: int, num_probe_trials_per_b: int, \\\n",
    "                                       num_blocks_per_session: int, max_cr_amp: int):\n",
    "    fig = plt.figure()\n",
    "    fig.suptitle(\"Forgetting\", fontsize=14)\n",
    "    fig.patch.set_facecolor('white')\n",
    "    ax = plt.subplot(111)\n",
    "    ax.set_xlabel('trial num', fontsize=12)\n",
    "    ax.set_ylabel('eyelid closure (mm)', fontsize=12)\n",
    "    trials_to_plot = np.arange(0, num_bkgd_trials, num_bkgd_trials_per_b)\n",
    "    for isi in isis:\n",
    "        # get the data from file\n",
    "        num_collect_ts = pre_cs_collect_ts + isi + post_cs_collect_ts\n",
    "        input_base_isi = f\"{input_base}_{isi}\"\n",
    "        input_pc_file = input_dir + input_base_isi + \"/\" + input_base_isi + extensions[\"pc_raster\"]\n",
    "        pc_rasters = cbm_pack.np_arr_from_file(input_pc_file, np.uint8)\n",
    "        pc_rasters = cbm_pack.reshape_raster( \\\n",
    "                pc_rasters, \\\n",
    "                cell_nums[\"pc\"], \\\n",
    "                num_probe_trials, \\\n",
    "                num_collect_ts)\n",
    "        # compute the crs from the pcs -> come back in 10 years\n",
    "        pc_forget_crs = cbm_pack.pcs_to_crs(pc_rasters, pre_cs_collect_ts, post_cs_collect_ts, isi)\n",
    "\n",
    "        # compute mean crs from probe trials\n",
    "        mean_crs_blocks = np.zeros(num_blocks_per_session)\n",
    "        trial_start = 0\n",
    "        trial_end = num_probe_trials_per_b\n",
    "        for i in np.arange(num_blocks_per_session):\n",
    "                mean_crs_blocks[i] = np.mean(np.max(pc_forget_crs[trial_start:trial_end], axis=1))\n",
    "                trial_start += num_probe_trials_per_b\n",
    "                trial_end += num_probe_trials_per_b\n",
    "\n",
    "        # plot away sailor\n",
    "        if isi <= 1250:\n",
    "            plt.plot(trials_to_plot, mean_crs_blocks, 'o-', markersize=2.0, linewidth=1.0, label=f'{isi}')\n",
    "        else:\n",
    "            plt.plot(trials_to_plot, mean_crs_blocks, 'o', markersize=2.0, label=f'{isi}')\n",
    "\n",
    "    # final setup stuff\n",
    "    ax.legend(loc='center right', bbox_to_anchor=(1.20, 0.5))\n",
    "    plt.ylim((0, max_cr_amp+1))\n",
    "    plt.tight_layout()\n",
    "    plt.show()\n",
    "    plt.close(fig)\n"
   ]
  },
  {
   "cell_type": "markdown",
   "metadata": {},
   "source": [
    "### Initial Run with 5000 Trials"
   ]
  },
  {
   "cell_type": "code",
   "execution_count": null,
   "metadata": {},
   "outputs": [],
   "source": [
    "NUM_BLOCKS_PER_SESSION = 50\n",
    "NUM_BKGD_TRIALS_PER_B = 100\n",
    "NUM_PROBE_TRIALS_PER_B = 50\n",
    "NUM_BKGD_TRIALS =  NUM_BKGD_TRIALS_PER_B * NUM_BLOCKS_PER_SESSION\n",
    "NUM_PROBE_TRIALS = NUM_PROBE_TRIALS_PER_B * NUM_BLOCKS_PER_SESSION\n",
    "\n",
    "input_base = f\"forget_est_ISI\"\n",
    "plot_forget_all_isi_from_pc_use_cr_amp(ISIS, NUM_BKGD_TRIALS, NUM_BKGD_TRIAlS_PER_B, \\\n",
    "                                       PRE_CS_COLLECT_TS, POST_CS_COLLECT_TS, \\\n",
    "                                       INPUT_DIR, input_base, NUM_PROBE_TRIALS, NUM_PROBE_TRIALS_PER_B, \\\n",
    "                                       NUM_BLOCKS_PER_SESSION, MAX_CR_AMP) # run for 5k trials"
   ]
  },
  {
   "cell_type": "markdown",
   "metadata": {},
   "source": [
    "### Results (from above Figure)\n",
    "\n",
    "- ISIs 1500, 1750, and 2000 'forget' (loosely defined, have not measured wrt amplitude cutoff) in 5000ts\n",
    "- every other ISI does not\n",
    "- keep in mind 5000 trials corresponds (with each trial being 5000ms) to about 6.75 hours"
   ]
  },
  {
   "cell_type": "code",
   "execution_count": null,
   "metadata": {},
   "outputs": [],
   "source": [
    "from matplotlib.colors import colorConverter\n",
    "from matplotlib.collections import LineCollection\n",
    "from mpl_toolkits.mplot3d import Axes3D\n",
    "\n",
    "def waterfall_plot(crs: np.ndarray):\n",
    "    num_probe_trials, num_ts_per_trial = crs.shape\n",
    "    cc = lambda arg: colorConverter.to_rgba(arg, alpha=1)\n",
    "    ts = np.arange(num_ts_per_trial)\n",
    "    probe_trials = np.arange(0, num_probe_trials, NUM_BKGD_TRIALS_PER_B)\n",
    "    verts = []\n",
    "    for trial in probe_trials:\n",
    "        verts.append(list(zip(ts, crs[trial, :])))\n",
    "    poly = LineCollection(verts, linewidths=0.5, edgecolor=[cc('k')])\n",
    "    ax = plt.figure().add_subplot(projection='3d')\n",
    "    ax.add_collection3d(poly, zs=probe_trials, zdir='y')\n",
    "    ax.set_xlim(50, num_ts_per_trial - 50)\n",
    "    ax.set_ylim(0, num_probe_trials)\n",
    "    ax.set_zlim(0, MAX_CR_AMP+0.5)\n",
    "    ax.set_title(f'Waterfall plot of CRs for isi {ISI}')\n",
    "    ax.set_xlabel('ts (ms)')\n",
    "    ax.set_ylabel('trials')\n",
    "    ax.set_zlabel('eyelid closure (mm)')\n",
    "    ax.view_init(elev=30, azim=-100, roll=0)\n",
    "    plt.show()"
   ]
  },
  {
   "cell_type": "code",
   "execution_count": null,
   "metadata": {},
   "outputs": [],
   "source": [
    "waterfall_plot(pc_forget_crs)"
   ]
  },
  {
   "cell_type": "markdown",
   "metadata": {},
   "source": [
    "### Next Run with 20000 Trials"
   ]
  },
  {
   "cell_type": "code",
   "execution_count": null,
   "metadata": {},
   "outputs": [],
   "source": [
    "NUM_BLOCKS_PER_SESSION = 200\n",
    "NUM_BKGD_TRIALS_PER_B = 100\n",
    "NUM_PROBE_TRIALS_PER_B = 50\n",
    "NUM_BKGD_TRIALS =  NUM_BKGD_TRIALS_PER_B * NUM_BLOCKS_PER_SESSION\n",
    "NUM_PROBE_TRIALS = NUM_PROBE_TRIALS_PER_B * NUM_BLOCKS_PER_SESSION\n",
    "\n",
    "input_base = f\"forget_est_20k_ISI\"\n",
    "plot_forget_all_isi_from_pc_use_cr_amp(ISIS, NUM_BKGD_TRIALS, NUM_BKGD_TRIAlS_PER_B, \\\n",
    "                                       PRE_CS_COLLECT_TS, POST_CS_COLLECT_TS, \\\n",
    "                                       INPUT_DIR, input_base, NUM_PROBE_TRIALS, NUM_PROBE_TRIALS_PER_B, \\\n",
    "                                       NUM_BLOCKS_PER_SESSION, MAX_CR_AMP) # run for 20k trials"
   ]
  },
  {
   "cell_type": "markdown",
   "metadata": {},
   "source": [
    "### Results (from above figure)\n",
    "\n",
    "- ISIs 1000-2000 forget after 2000 trials\n",
    "- every ISI below 1000 is on its way, but not completely forgotten\n",
    "- 20000 trials corresponds roughly to 27 hours in real-time"
   ]
  },
  {
   "cell_type": "markdown",
   "metadata": {},
   "source": [
    "## Resetting Weights\n",
    "\n",
    "### Outline\n",
    "- ran 50 probe trials for several reset weight values\n",
    "- only ran for ISI 500 so far to gauge number of reset weights necessary for forgetting"
   ]
  },
  {
   "cell_type": "code",
   "execution_count": null,
   "metadata": {},
   "outputs": [],
   "source": [
    "\n",
    "NUM_PROBE_TRIALS = 20 #50\n",
    "#ISIS = np.array([150, 200, 250, 500, 750, 1000, 1250, 1500, 1750, 2000])\n",
    "ISI = 500\n",
    "NUM_COLLECT_TS = PRE_CS_COLLECT_TS + ISI + POST_CS_COLLECT_TS\n",
    "PRE_CS_COLLECT_TS = 400\n",
    "POST_CS_COLLECT_TS = 400\n",
    "\n",
    "#RESET_INPUT_PREFIX = f\"probe_isi_{ISI}_reset\"\n",
    "# below is the full path until we get to parts of file name that vary\n",
    "#RESET_SUB_DIRS = [d for d in os.listdir(INPUT_DIR) \\\n",
    "#                     if os.path.isdir(os.path.join(INPUT_DIR, d)) \\\n",
    "#                         and d.startswith(RESET_INPUT_PREFIX)]\n",
    "#RESET_NUMS = sorted([int(d.split('_')[-1]) for d in RESET_SUB_DIRS])\n",
    "\n",
    "#RESET_INPUT_PC_FILE = f\"{CONST_FILE_BASE}{extensions['pc_raster']}\"\n",
    "#RESET_INPUT_NC_FILE = f\"{CONST_FILE_BASE}{extensions['nc_raster']}\""
   ]
  },
  {
   "cell_type": "code",
   "execution_count": null,
   "metadata": {},
   "outputs": [],
   "source": [
    "def plot_reset_weights_for_isi(isis: np.ndarray):\n",
    "    fig = plt.figure()\n",
    "    fig.suptitle(\"Reset Weights\", fontsize=14)\n",
    "    fig.patch.set_facecolor('white')\n",
    "    ax = plt.subplot(111)\n",
    "    ax.set_xlabel('Number Reset', fontsize=12)\n",
    "    ax.set_ylabel('eyelid closure (mm)', fontsize=12)\n",
    "    for isi in isis:\n",
    "        #probe_isi_{isi}_reset_43500_bugaloo\n",
    "        #reset_input_prefix = f\"probe_isi_{isi}_reset\"\n",
    "        #reset_sub_dirs = [d for d in os.listdir(INPUT_DIR) \\\n",
    "        #                     if os.path.isdir(os.path.join(INPUT_DIR, d)) \\\n",
    "        #                         and d.startswith(reset_input_prefix)]\n",
    "        #reset_nums = sorted([int(d.split('_')[-1]) for d in reset_sub_dirs])\n",
    "        # 15500 is when I get nans, so expect anything greater than that to be 0\n",
    "        reset_nums = np.arange(0, 25500, 500)\n",
    "        isi_reset_crs = []\n",
    "        for num in reset_nums:\n",
    "            #reset_base = f\"{reset_input_prefix}_{num}\"\n",
    "            reset_base = f\"probe_isi_{isi}_reset_{num}_bugaloo\"\n",
    "            reset_pc_file = f\"{INPUT_DIR}{reset_base}/{reset_base}{extensions['pc_raster']}\"\n",
    "\n",
    "            num_collect_ts = PRE_CS_COLLECT_TS + isi + POST_CS_COLLECT_TS\n",
    "            pc_rasters = cbm_pack.np_arr_from_file(reset_pc_file, np.uint8)\n",
    "            pc_rasters = cbm_pack.reshape_raster( \\\n",
    "                    pc_rasters, \\\n",
    "                    cell_nums[\"pc\"], \\\n",
    "                    NUM_PROBE_TRIALS, \\\n",
    "                    num_collect_ts)\n",
    "            # compute the crs from the pcs -> come back in 10 years\n",
    "            pc_reset_crs = cbm_pack.pcs_to_crs(pc_rasters, PRE_CS_COLLECT_TS, POST_CS_COLLECT_TS, isi)\n",
    "\n",
    "            computed_cr = np.mean(np.max(pc_reset_crs, axis=1))\n",
    "            if np.isnan(computed_cr):\n",
    "                computed_cr = 0.0\n",
    "            isi_reset_crs.append(computed_cr)\n",
    "            print(f\"ISI {isi}: computed cr for {num} reset: {computed_cr}\")\n",
    "            \n",
    "        plt.plot(reset_nums, isi_reset_crs, 'o', markersize=2.0, label=f'{isi}')\n",
    "    \n",
    "    # final setup stuff\n",
    "    ax.legend(loc='center right', bbox_to_anchor=(1.20, 0.5))\n",
    "    plt.ylim((0, MAX_CR_AMP+1))\n",
    "    plt.tight_layout()\n",
    "    plt.show()\n",
    "    plt.close(fig)"
   ]
  },
  {
   "cell_type": "markdown",
   "metadata": {},
   "source": [
    "### Issues\n",
    "\n",
    "- clearly not forgetting. Needs to be debugged\n",
    "\n",
    "### Attempt at a Solution\n",
    "\n",
    "- checked the distributions of weights:\n",
    "  - after equilibrium\n",
    "  - after acquisition\n",
    "  - after reset (using Satvik's script)\n",
    "- found that what was being reset appeared to be closer to the center of the peak of the distribution, rather than the tails\n",
    "\n",
    "- re-created Satvik's script\n",
    "  - visually inspected the distribution for different amounts of lowest weights reset to equilibrium\n",
    "  - checked for the number that was after the lower peak (weakest learned synapses) had vanished\n",
    "  - that number was just before 50000\n",
    "- then ran 20 probe trials for number of reset weights in numpy.arange(0, 50500, 500)\n",
    "\n",
    "### Second Result\n",
    "\n",
    "- also failed to forget -> need a control\n",
    "- TODO: let the overwrite file be the equilibrium weights file: if that file leads to forgetting of CRs, question implementation\n",
    "\n",
    "### Third Result\n",
    "\n",
    "- Success! -> check your implementation: I mixed up my flags"
   ]
  },
  {
   "cell_type": "markdown",
   "metadata": {},
   "source": [
    "## Freeze Weight Analysis\n",
    "\n",
    "### Outline\n",
    "\n",
    "- proof of concept, so running only on ISI 500\n",
    "- identified weights from resetting (for ISI 500 it was approx. the lowest 15000) were frozen\n",
    "- 5000 forgetting trials were administered, with an additional 2500 probe trials\n",
    "- forgetting trials and probe trials were interweaved in blocks of 100 forgetting trials and 50 probe trials"
   ]
  },
  {
   "cell_type": "code",
   "execution_count": null,
   "metadata": {},
   "outputs": [],
   "source": [
    "NUM_BLOCKS_PER_SESSION = 50\n",
    "NUM_BKGD_TRIALS_PER_B = 100\n",
    "NUM_PROBE_TRIALS_PER_B = 50\n",
    "NUM_BKGD_TRIALS =  NUM_BKGD_TRIALS_PER_B * NUM_BLOCKS_PER_SESSION\n",
    "NUM_PROBE_TRIALS = NUM_PROBE_TRIALS_PER_B * NUM_BLOCKS_PER_SESSION\n",
    "#ISIS = np.array([150, 200, 250, 500, 750, 1000, 1250, 1500, 1750, 2000])\n",
    "ISI = 500\n",
    "ISIS = np.array([ISI])"
   ]
  },
  {
   "cell_type": "code",
   "execution_count": null,
   "metadata": {},
   "outputs": [],
   "source": [
    "input_base = f\"forget_nec_suf_ISI\"\n",
    "#plot_forget_all_isi_from_pc_use_cr_amp(ISIS, NUM_BKGD_TRIALS, NUM_BKGD_TRIALS_PER_B, \\\n",
    "#                                       PRE_CS_COLLECT_TS, POST_CS_COLLECT_TS, \\\n",
    "#                                       INPUT_DIR, input_base, NUM_PROBE_TRIALS, NUM_PROBE_TRIALS_PER_B, \\\n",
    "#                                       NUM_BLOCKS_PER_SESSION, MAX_CR_AMP) # run for 5k trials\n",
    "\n",
    "# get the data from file\n",
    "num_collect_ts = PRE_CS_COLLECT_TS + ISI + POST_CS_COLLECT_TS\n",
    "input_base_isi = f\"{input_base}_{ISI}\"\n",
    "input_pc_file = INPUT_DIR + input_base_isi + \"/\" + input_base_isi + extensions[\"pc_psth\"]\n",
    "pc_psths = cbm_pack.np_arr_from_file(input_pc_file, np.uint8)\n",
    "pc_psths = pc_psths.reshape((num_collect_ts, cell_nums[\"pc\"]))\n",
    "pc_psths = pc_psths.transpose()\n",
    "pc_inst_frs = cbm_pack.calc_inst_fire_rates_from(pc_psths, data_type=\"psth\", num_trials=1000.0)\n",
    "#pc_smooth_frs = cbm_pack.calc_smooth_inst_fire_rates_from_psth(pc_psths,\n",
    "#    NUM_PROBE_TRIALS, kernel_type=\"gaussian\")\n",
    "#mean_pc_smooth_fr = np.mean(pc_smooth_frs, axis=0)"
   ]
  },
  {
   "cell_type": "code",
   "execution_count": null,
   "metadata": {},
   "outputs": [],
   "source": [
    "fig = plt.figure()\n",
    "fig.suptitle(\"15K Frozen Weights, PC Cell 31 psth\", fontsize=14)\n",
    "fig.patch.set_facecolor('white')\n",
    "ax = plt.subplot(111)\n",
    "ax.set_xlabel('ts (ms)', fontsize=12)\n",
    "ax.set_ylabel('spike count', fontsize=12)\n",
    "plt.plot(pc_psths[31], '-', linewidth=1.0)\n",
    "\n",
    "# final setup stuff\n",
    "plt.ylim((0, 260))\n",
    "plt.tight_layout()\n",
    "plt.show()\n",
    "plt.close(fig)"
   ]
  },
  {
   "cell_type": "code",
   "execution_count": null,
   "metadata": {},
   "outputs": [],
   "source": [
    "fig = plt.figure()\n",
    "fig.suptitle(\"15K Frozen Weights, PC Cell 31 psth, ts 800:875\", fontsize=14)\n",
    "fig.patch.set_facecolor('white')\n",
    "ax = plt.subplot(111)\n",
    "ax.set_xlabel('ts (ms)', fontsize=12)\n",
    "ax.set_ylabel('spike count', fontsize=12)\n",
    "plt.plot(pc_psths[31][800:875], '-', linewidth=1.0)\n",
    "\n",
    "# final setup stuff\n",
    "plt.ylim((0, 260))\n",
    "plt.tight_layout()\n",
    "plt.show()\n",
    "plt.close(fig)"
   ]
  },
  {
   "cell_type": "code",
   "execution_count": null,
   "metadata": {},
   "outputs": [],
   "source": [
    "input_nc_file = INPUT_DIR + input_base_isi + \"/\" + input_base_isi + extensions[\"nc_psth\"]\n",
    "nc_psths = cbm_pack.np_arr_from_file(input_nc_file, np.uint8)\n",
    "nc_psths = nc_psths.reshape((num_collect_ts, cell_nums[\"nc\"]))\n",
    "nc_psths = nc_psths.transpose()"
   ]
  },
  {
   "cell_type": "code",
   "execution_count": null,
   "metadata": {},
   "outputs": [],
   "source": [
    "nc_id = 2\n",
    "fig = plt.figure()\n",
    "fig.suptitle(f\"15K Frozen Weights, NC Cell {nc_id} psth\", fontsize=14)\n",
    "fig.patch.set_facecolor('white')\n",
    "ax = plt.subplot(111)\n",
    "ax.set_xlabel('ts (ms)', fontsize=12)\n",
    "ax.set_ylabel('spike count', fontsize=12)\n",
    "plt.plot(nc_psths[nc_id], '-', linewidth=1.0)\n",
    "\n",
    "# final setup stuff\n",
    "plt.ylim((0, 260))\n",
    "plt.tight_layout()\n",
    "plt.show()\n",
    "plt.close(fig)"
   ]
  },
  {
   "cell_type": "markdown",
   "metadata": {},
   "source": [
    "### Issues\n",
    "\n",
    "- What you see is integer overflow: the data types of the psths are 8 bit, unsigned integer\n",
    "  - we never ran into this problem because we never really ran psths with so many trials\n",
    "- something else is probably going on\n",
    "  - why would the pc cells even *have* that many spikes during the marked decrease in firing?\n",
    "  - why do these periods look oscilatory?\n",
    "  - what is the population of GR that connect to the frozen weigths doing?\n",
    "  - what is the population of GR that connect to the non-frozen weights doing?\n",
    "  - what is the overlap in the gr cell population?"
   ]
  },
  {
   "cell_type": "markdown",
   "metadata": {},
   "source": [
    "### Freeze Raster Analysis\n",
    "\n",
    "- Verification of frozen weights not changing before and after run\n",
    "- Verification of non-frozen weights changing before and after run"
   ]
  },
  {
   "cell_type": "code",
   "execution_count": null,
   "metadata": {},
   "outputs": [],
   "source": [
    "def verify_frozen_non_frozen_weights(acq_weight_path: str, post_freeze_forget_weight_path: str, mask_path: str, num_reset: int):\n",
    "    acq_weights =  cbm_pack.np_arr_from_file(acq_weight_path, datatype=np.single)\n",
    "    assert len(acq_weights) == cell_nums[\"gr\"]\n",
    "\n",
    "    post_freeze_forget_weights =  cbm_pack.np_arr_from_file(post_freeze_forget_weight_path, datatype=np.single)\n",
    "    assert len(post_freeze_forget_weights) == cell_nums[\"gr\"]\n",
    "\n",
    "    freeze_mask = cbm_pack.np_arr_from_file(mask_path, datatype=np.ubyte)\n",
    "    try:\n",
    "        np.testing.assert_array_equal(acq_weights[1-freeze_mask > 0], post_freeze_forget_weights[1-freeze_mask > 0])\n",
    "    except AssertionError:\n",
    "        print(f\"lowest {num_reset} weights are not equal\")\n",
    "    else:\n",
    "        print(f\"lowest {num_reset} weights are equal\")\n",
    "        \n",
    "    try:\n",
    "        np.testing.assert_raises(AssertionError, np.testing.assert_array_equal, acq_weights[freeze_mask > 0], post_freeze_forget_weights[freeze_mask > 0])\n",
    "    except AssertionError:\n",
    "        print(f\"all of the rest of the weights are the same\")\n",
    "    else:\n",
    "        print(f\"some of the rest of the weights are different\")"
   ]
  },
  {
   "cell_type": "code",
   "execution_count": null,
   "metadata": {},
   "outputs": [],
   "source": [
    "acq_input_base = f\"acq_ISI_{ISI}\"\n",
    "acq_weight_path = f\"{INPUT_DIR}{acq_input_base}/{acq_input_base}_TRIAL_749.pfpcw\"\n",
    "\n",
    "forget_nec_suf_base = f\"forget_nec_suf_ISI_{ISI}\"\n",
    "post_freeze_forget_weight_path = f\"{INPUT_DIR}{forget_nec_suf_base}/{forget_nec_suf_base}_TRIAL_7499.pfpcw\"\n",
    "\n",
    "freeze_mask_path = f\"./Tests/freeze_isi_500_15000.mask\"\n",
    "\n",
    "verify_frozen_non_frozen_weights(acq_weight_path, post_freeze_forget_weight_path, freeze_mask_path, 15000)"
   ]
  },
  {
   "cell_type": "code",
   "execution_count": null,
   "metadata": {},
   "outputs": [],
   "source": [
    "NUM_BLOCKS_PER_SESSION = 50\n",
    "NUM_BKGD_TRIALS_PER_B = 100\n",
    "NUM_PROBE_TRIALS_PER_B = 50\n",
    "NUM_BKGD_TRIALS =  NUM_BKGD_TRIALS_PER_B * NUM_BLOCKS_PER_SESSION\n",
    "NUM_PROBE_TRIALS = NUM_PROBE_TRIALS_PER_B * NUM_BLOCKS_PER_SESSION\n",
    "\n",
    "input_base = f\"forget_nec_suf_ISI\"\n",
    "plot_forget_all_isi_from_pc_use_cr_amp(ISIS, NUM_BKGD_TRIALS, NUM_BKGD_TRIALS_PER_B, \\\n",
    "                                       PRE_CS_COLLECT_TS, POST_CS_COLLECT_TS, \\\n",
    "                                       INPUT_DIR, input_base, NUM_PROBE_TRIALS, NUM_PROBE_TRIALS_PER_B, \\\n",
    "                                       NUM_BLOCKS_PER_SESSION, MAX_CR_AMP) # run for 20k trials"
   ]
  },
  {
   "cell_type": "markdown",
   "metadata": {},
   "source": [
    "### Issues\n",
    "\n",
    "- 1) post-acq weights should not be the same as post-freeze weights\n",
    "- 2) if post-acq weights are same as post-freeze weights, then cr amps make sense\n",
    "- 3) did a lil debugging, found I wasn't giving the filestream the full path\n",
    "      to the weight file -> assuming the fs obj silently fails, then what is the value\n",
    "      of the mask? ZERO. and what meaning did we assign to ZERO? -> FREEZE, so nothing \n",
    "      was updating, thus 1) and 2) above make sense. the psths though, not sure..."
   ]
  },
  {
   "cell_type": "code",
   "execution_count": null,
   "metadata": {},
   "outputs": [],
   "source": [
    "acq_input_base = f\"acq_ISI_{ISI}\"\n",
    "acq_weight_path = f\"{INPUT_DIR}{acq_input_base}/{acq_input_base}_TRIAL_749.pfpcw\"\n",
    "\n",
    "forget_nec_suf_base = f\"forget_nec_suf_ISI_{ISI}\"\n",
    "post_freeze_forget_weight_path = f\"{INPUT_DIR}{forget_nec_suf_base}/{forget_nec_suf_base}_TRIAL_7499.pfpcw\"\n",
    "\n",
    "freeze_mask_path = f\"./Tests/freeze_isi_500_15000.mask\"\n",
    "\n",
    "verify_frozen_non_frozen_weights(acq_weight_path, post_freeze_forget_weight_path, freeze_mask_path, 15000)"
   ]
  },
  {
   "cell_type": "code",
   "execution_count": null,
   "metadata": {},
   "outputs": [],
   "source": [
    "NUM_BLOCKS_PER_SESSION = 50\n",
    "NUM_BKGD_TRIALS_PER_B = 100\n",
    "NUM_PROBE_TRIALS_PER_B = 50\n",
    "NUM_BKGD_TRIALS =  NUM_BKGD_TRIALS_PER_B * NUM_BLOCKS_PER_SESSION\n",
    "NUM_PROBE_TRIALS = NUM_PROBE_TRIALS_PER_B * NUM_BLOCKS_PER_SESSION\n",
    "\n",
    "forget_nec_suf_input_base = f\"forget_nec_suf_ISI\"\n",
    "plot_forget_all_isi_from_pc_use_cr_amp(ISIS, NUM_BKGD_TRIALS, NUM_BKGD_TRIALS_PER_B, \\\n",
    "                                       PRE_CS_COLLECT_TS, POST_CS_COLLECT_TS, \\\n",
    "                                       INPUT_DIR, forget_nec_suf_input_base, NUM_PROBE_TRIALS, NUM_PROBE_TRIALS_PER_B, \\\n",
    "                                       NUM_BLOCKS_PER_SESSION, MAX_CR_AMP) # run for 5k trials"
   ]
  },
  {
   "cell_type": "markdown",
   "metadata": {},
   "source": [
    "### Results\n",
    "\n",
    "- frozen weights did not change\n",
    "- non-frozen weights did change\n",
    "- got a little bit of forgetting, but not nearly as much as when these weights were allowed to drift"
   ]
  },
  {
   "cell_type": "markdown",
   "metadata": {},
   "source": [
    "### CR Views\n",
    "\n",
    "- mean CRs from 50 probe trial blocks administered at the end of given forgetting trial number"
   ]
  },
  {
   "cell_type": "code",
   "execution_count": null,
   "metadata": {},
   "outputs": [],
   "source": [
    "bkgd_trial_to_plot = 4900\n",
    "fig = plt.figure()\n",
    "fig.suptitle(f\"mean probe CR after {bkgd_trial_to_plot} trials with 15000 'CR' Weights frozen\", fontsize=14)\n",
    "fig.patch.set_facecolor('white')\n",
    "ax = plt.subplot(111)\n",
    "ax.set_xlabel('ts', fontsize=12)\n",
    "ax.set_ylabel('eyelid closure (mm)', fontsize=12)\n",
    "\n",
    "#NUM_COLLECT_TS = PRE_CS_COLLECT_TS + ISI + POST_CS_COLLECT_TS\n",
    "## get the data from file\n",
    "#forget_nec_suf_input_base = f\"forget_nec_suf_ISI\"\n",
    "#forget_nec_suf_input_base_isi = f\"{forget_nec_suf_input_base}_{ISI}\"\n",
    "#input_pc_file = INPUT_DIR + forget_nec_suf_input_base_isi + \"/\" + forget_nec_suf_input_base_isi + extensions[\"pc_raster\"]\n",
    "#pc_rasters = cbm_pack.np_arr_from_file(input_pc_file, np.uint8)\n",
    "#pc_rasters = cbm_pack.reshape_raster( \\\n",
    "#        pc_rasters, \\\n",
    "#        cell_nums[\"pc\"], \\\n",
    "#        NUM_PROBE_TRIALS, \\\n",
    "#        NUM_COLLECT_TS)\n",
    "## compute the crs from the pcs -> come back in 10 years\n",
    "#pc_forget_crs = cbm_pack.pcs_to_crs(pc_rasters, PRE_CS_COLLECT_TS, POST_CS_COLLECT_TS, ISI)\n",
    "#\n",
    "### compute mean crs from probe trials\n",
    "trial_start = int((bkgd_trial_to_plot / NUM_BKGD_TRIALS) * NUM_PROBE_TRIALS)\n",
    "trial_end = trial_start + NUM_PROBE_TRIALS_PER_B\n",
    "print(trial_start, trial_end)\n",
    "mean_probe_cr_at_trial = np.mean(pc_forget_crs[trial_start:trial_end], axis=0)\n",
    "ci = 1.96 * np.std(pc_forget_crs[trial_start:trial_end], axis=0) / np.sqrt(NUM_PROBE_TRIALS_PER_B)\n",
    "\n",
    "ax.plot(mean_probe_cr_at_trial, '-', color='black', alpha=.8, linewidth=1.0, label=f'{ISI}')\n",
    "ax.fill_between(np.arange(NUM_COLLECT_TS), (mean_probe_cr_at_trial-ci), (mean_probe_cr_at_trial+ci), color='b', alpha=.1)\n",
    "\n",
    "## final setup stuff\n",
    "ax.legend(loc='center right', bbox_to_anchor=(1.20, 0.5))\n",
    "plt.ylim((0, MAX_CR_AMP+1))\n",
    "plt.tight_layout()\n",
    "plt.show()\n",
    "plt.close(fig)"
   ]
  },
  {
   "cell_type": "markdown",
   "metadata": {},
   "source": [
    "### 20K Trials"
   ]
  },
  {
   "cell_type": "code",
   "execution_count": null,
   "metadata": {},
   "outputs": [],
   "source": [
    "NUM_BLOCKS_PER_SESSION = 200\n",
    "NUM_BKGD_TRIALS_PER_B = 100\n",
    "NUM_PROBE_TRIALS_PER_B = 50\n",
    "NUM_BKGD_TRIALS =  NUM_BKGD_TRIALS_PER_B * NUM_BLOCKS_PER_SESSION\n",
    "NUM_PROBE_TRIALS = NUM_PROBE_TRIALS_PER_B * NUM_BLOCKS_PER_SESSION\n",
    "\n",
    "forget_nec_suf_input_base = f\"forget_nec_suf_20k_ISI\"\n",
    "plot_forget_all_isi_from_pc_use_cr_amp(ISIS, NUM_BKGD_TRIALS, NUM_BKGD_TRIALS_PER_B, \\\n",
    "                                       PRE_CS_COLLECT_TS, POST_CS_COLLECT_TS, \\\n",
    "                                       INPUT_DIR, forget_nec_suf_input_base, NUM_PROBE_TRIALS, NUM_PROBE_TRIALS_PER_B, \\\n",
    "                                       NUM_BLOCKS_PER_SESSION, MAX_CR_AMP) # run for 5k trials"
   ]
  },
  {
   "cell_type": "markdown",
   "metadata": {},
   "source": [
    "### CRs"
   ]
  },
  {
   "cell_type": "code",
   "execution_count": null,
   "metadata": {},
   "outputs": [],
   "source": [
    "bkgd_trials_to_plot = [900, 5000, 10000, 15000, 19900]\n",
    "fig = plt.figure()\n",
    "fig.suptitle(f\"mean probe CRs at trials with 15000 'CR' Weights frozen (ISI 500)\", fontsize=14)\n",
    "fig.patch.set_facecolor('white')\n",
    "ax = plt.subplot(111)\n",
    "ax.set_xlabel('ts', fontsize=12)\n",
    "ax.set_ylabel('eyelid closure (mm)', fontsize=12)\n",
    "\n",
    "#NUM_COLLECT_TS = PRE_CS_COLLECT_TS + ISI + POST_CS_COLLECT_TS\n",
    "## get the data from file\n",
    "#forget_nec_suf_input_base = f\"forget_nec_suf_20k_ISI\"\n",
    "#forget_nec_suf_input_base_isi = f\"{forget_nec_suf_input_base}_{ISI}\"\n",
    "#input_pc_file = INPUT_DIR + forget_nec_suf_input_base_isi + \"/\" + forget_nec_suf_input_base_isi + extensions[\"pc_raster\"]\n",
    "#pc_rasters = cbm_pack.np_arr_from_file(input_pc_file, np.uint8)\n",
    "#pc_rasters = cbm_pack.reshape_raster( \\\n",
    "#        pc_rasters, \\\n",
    "#        cell_nums[\"pc\"], \\\n",
    "#        NUM_PROBE_TRIALS, \\\n",
    "#        NUM_COLLECT_TS)\n",
    "## compute the crs from the pcs -> come back in 10 years\n",
    "#pc_forget_crs = cbm_pack.pcs_to_crs(pc_rasters, PRE_CS_COLLECT_TS, POST_CS_COLLECT_TS, ISI)\n",
    "\n",
    "### compute mean crs from probe trials\n",
    "for trial in bkgd_trials_to_plot:\n",
    "        trial_start = int((trial / NUM_BKGD_TRIALS) * NUM_PROBE_TRIALS)\n",
    "        trial_end = trial_start + NUM_PROBE_TRIALS_PER_B\n",
    "        print(trial_start, trial_end)\n",
    "        mean_probe_cr_at_trial = np.mean(pc_forget_crs[trial_start:trial_end], axis=0)\n",
    "        ci = 1.96 * np.std(pc_forget_crs[trial_start:trial_end], axis=0) / np.sqrt(NUM_PROBE_TRIALS_PER_B)\n",
    "\n",
    "        ax.plot(mean_probe_cr_at_trial, '-', alpha=.8, linewidth=1.0, label=f'{trial}')\n",
    "        ax.fill_between(np.arange(NUM_COLLECT_TS), (mean_probe_cr_at_trial-ci), (mean_probe_cr_at_trial+ci), color='b', alpha=.1)\n",
    "\n",
    "## final setup stuff\n",
    "plt.axvline(x=PRE_CS_COLLECT_TS, color='green', linestyle='dotted', label='CS Onset')\n",
    "plt.axvline(x=PRE_CS_COLLECT_TS + ISI, color='red', linestyle='dotted', label='US Onset')\n",
    "ax.legend(loc='center right', bbox_to_anchor=(1.30, 0.5))\n",
    "plt.ylim((0, MAX_CR_AMP+1))\n",
    "plt.tight_layout()\n",
    "plt.show()\n",
    "plt.close(fig) "
   ]
  },
  {
   "cell_type": "markdown",
   "metadata": {},
   "source": [
    "### Results\n",
    "\n",
    "- Still forgetting, despite freezing lowest 15000 weights\n",
    "- One thing we have not considered is the variability between runs:\n",
    "  - could run a couple of reset weights trials to find a mean cut-off point"
   ]
  },
  {
   "cell_type": "markdown",
   "metadata": {},
   "source": [
    "### Next Steps\n",
    "\n",
    "- Try another Forgetting run of 20k Trials with *20000* reset weights"
   ]
  }
 ],
 "metadata": {
  "kernelspec": {
   "display_name": "Python 3 (ipykernel)",
   "language": "python",
   "name": "python3"
  },
  "language_info": {
   "codemirror_mode": {
    "name": "ipython",
    "version": 3
   },
   "file_extension": ".py",
   "mimetype": "text/x-python",
   "name": "python",
   "nbconvert_exporter": "python",
   "pygments_lexer": "ipython3",
   "version": "3.10.6"
  },
  "orig_nbformat": 4
 },
 "nbformat": 4,
 "nbformat_minor": 2
}
