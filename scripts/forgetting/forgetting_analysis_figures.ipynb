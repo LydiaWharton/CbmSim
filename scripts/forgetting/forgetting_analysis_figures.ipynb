{
 "cells": [
  {
   "cell_type": "code",
   "execution_count": 6,
   "metadata": {},
   "outputs": [],
   "source": [
    "import numpy as np\n",
    "import matplotlib as mpl\n",
    "import matplotlib.pyplot as plt\n",
    "from matplotlib.patches import Rectangle\n",
    "from matplotlib.colors import colorConverter\n",
    "from matplotlib.collections import LineCollection\n",
    "from mpl_toolkits.mplot3d import Axes3D\n",
    "import os\n",
    "import sys\n",
    "import cbm_pack.cbm_pack as cbm_pack\n",
    "\n",
    "from matplotlib import rcParams\n"
   ]
  },
  {
   "cell_type": "code",
   "execution_count": 10,
   "metadata": {},
   "outputs": [
    {
     "ename": "ModuleNotFoundError",
     "evalue": "No module named 'cbm_pack.file_utils'",
     "output_type": "error",
     "traceback": [
      "\u001b[0;31m---------------------------------------------------------------------------\u001b[0m",
      "\u001b[0;31mModuleNotFoundError\u001b[0m                       Traceback (most recent call last)",
      "\u001b[1;32m/home/satvik/lobule_v/CbmSim/scripts/forgetting/forgetting_analysis_figures.ipynb Cell 2\u001b[0m line \u001b[0;36m3\n\u001b[1;32m      <a href='vscode-notebook-cell://ssh-remote%2B10.149.197.87/home/satvik/lobule_v/CbmSim/scripts/forgetting/forgetting_analysis_figures.ipynb#W1sdnNjb2RlLXJlbW90ZQ%3D%3D?line=0'>1</a>\u001b[0m \u001b[39mimport\u001b[39;00m \u001b[39mmatplotlib\u001b[39;00m\u001b[39m.\u001b[39;00m\u001b[39mpyplot\u001b[39;00m \u001b[39mas\u001b[39;00m \u001b[39mplt\u001b[39;00m\n\u001b[1;32m      <a href='vscode-notebook-cell://ssh-remote%2B10.149.197.87/home/satvik/lobule_v/CbmSim/scripts/forgetting/forgetting_analysis_figures.ipynb#W1sdnNjb2RlLXJlbW90ZQ%3D%3D?line=1'>2</a>\u001b[0m \u001b[39mimport\u001b[39;00m \u001b[39mnumpy\u001b[39;00m \u001b[39mas\u001b[39;00m \u001b[39mnp\u001b[39;00m\n\u001b[0;32m----> <a href='vscode-notebook-cell://ssh-remote%2B10.149.197.87/home/satvik/lobule_v/CbmSim/scripts/forgetting/forgetting_analysis_figures.ipynb#W1sdnNjb2RlLXJlbW90ZQ%3D%3D?line=2'>3</a>\u001b[0m \u001b[39mimport\u001b[39;00m \u001b[39mcbm_pack\u001b[39;00m\u001b[39m.\u001b[39;00m\u001b[39mfile_utils\u001b[39;00m \u001b[39mas\u001b[39;00m \u001b[39mfile_utils\u001b[39;00m\n\u001b[1;32m      <a href='vscode-notebook-cell://ssh-remote%2B10.149.197.87/home/satvik/lobule_v/CbmSim/scripts/forgetting/forgetting_analysis_figures.ipynb#W1sdnNjb2RlLXJlbW90ZQ%3D%3D?line=3'>4</a>\u001b[0m \u001b[39mimport\u001b[39;00m \u001b[39mcbm_pack\u001b[39;00m\u001b[39m.\u001b[39;00m\u001b[39mtransform\u001b[39;00m \u001b[39mas\u001b[39;00m \u001b[39mtransform\u001b[39;00m\n\u001b[1;32m      <a href='vscode-notebook-cell://ssh-remote%2B10.149.197.87/home/satvik/lobule_v/CbmSim/scripts/forgetting/forgetting_analysis_figures.ipynb#W1sdnNjb2RlLXJlbW90ZQ%3D%3D?line=4'>5</a>\u001b[0m \u001b[39mimport\u001b[39;00m \u001b[39mcbm_pack\u001b[39;00m\u001b[39m.\u001b[39;00m\u001b[39manalysis\u001b[39;00m \u001b[39mas\u001b[39;00m \u001b[39manalysis\u001b[39;00m\n",
      "\u001b[0;31mModuleNotFoundError\u001b[0m: No module named 'cbm_pack.file_utils'"
     ]
    }
   ],
   "source": [
    "import matplotlib.pyplot as plt\n",
    "import numpy as np\n",
    "import cbm_pack.file_utils as file_utils\n",
    "import cbm_pack.transform as transform\n",
    "import cbm_pack.analysis as analysis\n",
    "from copy import deepcopy\n",
    "import os.path\n",
    "\n",
    "TRIAL_TIME = 5000 # in ms\n",
    "MS_PER_HOUR = 3_600_000\n",
    "MAX_CR_AMP = 6\n",
    "\n",
    "PRE_CS_COLLECT_TS = 400\n",
    "POST_CS_COLLECT_TS = 400\n",
    "\n",
    "PYTHON_SCRIPTS_PATH = \"/home/seang/Dev/Scripts/Python\"\n",
    "\n",
    "DATA_INPUT_DIR = f\"{PYTHON_SCRIPTS_PATH}/data/inputs\"\n",
    "FORGET_DATA_INPUTS_PATH = f\"{PYTHON_SCRIPTS_PATH}/data/inputs/Forgetting\"\n",
    "\n",
    "EXTENSIONS = {\n",
    "    \"mf_raster\" : \".mfr\",\n",
    "    \"gr_raster\" : \".grr\",\n",
    "    \"go_raster\" : \".gor\",\n",
    "    \"pc_raster\" : \".pcr\",\n",
    "    \"bc_raster\" : \".bcr\",\n",
    "    \"sc_raster\" : \".scr\",\n",
    "    \"nc_raster\" : \".ncr\",\n",
    "    \"io_raster\" : \".ior\",\n",
    "    \"mf_psth\" : \".mfp\", \n",
    "    \"gr_psth\" : \".grp\",\n",
    "    \"go_psth\" : \".gop\",\n",
    "    \"pc_psth\" : \".pcp\",\n",
    "    \"bc_psth\" : \".bcp\",\n",
    "    \"sc_psth\" : \".scp\",\n",
    "    \"nc_psth\" : \".ncp\",\n",
    "    \"io_psth\" : \".iop\",\n",
    "    \"pfpc_weights\" : \".pfpcw\",\n",
    "    \"mfnc_weights\" : \".mfncw\"\n",
    "}\n",
    "\n",
    "CELL_NUMS = {\n",
    "    \"mf\" : 4096,\n",
    "    \"gr\" : 2 ** 20,\n",
    "    \"go\" : 4096,\n",
    "    \"pc\" : 32,\n",
    "    \"bc\" : 128,\n",
    "    \"sc\" : 512,\n",
    "    \"nc\" : 8,\n",
    "    \"io\" : 4\n",
    "}"
   ]
  },
  {
   "cell_type": "code",
   "execution_count": 3,
   "metadata": {},
   "outputs": [],
   "source": [
    "def compute_crs_isis(isis: np.ndarray, probe_trials_per_block: np.ndarray, num_blocks: np.ndarray, input_base: str):\n",
    "    num_probe_trials = probe_trials_per_block * num_blocks\n",
    "    pcs_isis = {}\n",
    "    for isi in isis:\n",
    "        num_collect_ts = PRE_CS_COLLECT_TS + isi + POST_CS_COLLECT_TS\n",
    "  \n",
    "        input_base_isi = f\"{input_base}_{isi}\"\n",
    "        input_pc_file = f\"{FORGET_DATA_INPUTS_PATH}/{input_base_isi}/{input_base_isi}{EXTENSIONS['pc_raster']}\"\n",
    "        pc_rasters = file_utils.np_arr_from_file(input_pc_file, np.uint8)\n",
    "        pc_rasters = transform.reshape_raster( \\\n",
    "                pc_rasters, \\\n",
    "                CELL_NUMS[\"pc\"], \\\n",
    "                num_probe_trials, \\\n",
    "                num_collect_ts)\n",
    "\n",
    "        pc_forget_crs = analysis.pcs_to_crs(pc_rasters, PRE_CS_COLLECT_TS, POST_CS_COLLECT_TS, isi)\n",
    "        pcs_isis[isi] = pc_forget_crs\n",
    "    return pcs_isis  \n",
    "    \n",
    "    # final setup stuff"
   ]
  },
  {
   "cell_type": "code",
   "execution_count": 4,
   "metadata": {},
   "outputs": [
    {
     "name": "stdout",
     "output_type": "stream",
     "text": [
      "(500,)\n",
      "ISI 200: computed cr for final cr: 5.947457938195525\n",
      "(500,)\n",
      "ISI 500: computed cr for final cr: 5.878672569611904\n",
      "(1000,)\n",
      "ISI 1000: computed cr for final cr: 5.7889670814755725\n"
     ]
    },
    {
     "ename": "KeyboardInterrupt",
     "evalue": "",
     "output_type": "error",
     "traceback": [
      "\u001b[0;31m---------------------------------------------------------------------------\u001b[0m",
      "\u001b[0;31mKeyboardInterrupt\u001b[0m                         Traceback (most recent call last)",
      "\u001b[1;32m/home/satvik/lobule_v/CbmSim/scripts/forgetting/forgetting_analysis_figures.ipynb Cell 4\u001b[0m line \u001b[0;36m6\n\u001b[1;32m      <a href='vscode-notebook-cell://ssh-remote%2B10.149.197.87/home/satvik/lobule_v/CbmSim/scripts/forgetting/forgetting_analysis_figures.ipynb#W3sdnNjb2RlLXJlbW90ZQ%3D%3D?line=2'>3</a>\u001b[0m FULL_INPUT_DIR\u001b[39m=\u001b[39m \u001b[39mf\u001b[39m\u001b[39m\"\u001b[39m\u001b[39m/home/satvik/lobule_v/CbmSim/data/outputs/forgetting_bugaloo/acq_no_probe_ISI/\u001b[39m\u001b[39m\"\u001b[39m\n\u001b[1;32m      <a href='vscode-notebook-cell://ssh-remote%2B10.149.197.87/home/satvik/lobule_v/CbmSim/scripts/forgetting/forgetting_analysis_figures.ipynb#W3sdnNjb2RlLXJlbW90ZQ%3D%3D?line=3'>4</a>\u001b[0m FULL_BASENAME\u001b[39m=\u001b[39m\u001b[39mf\u001b[39m\u001b[39m\"\u001b[39m\u001b[39macq_no_probe_ISI\u001b[39m\u001b[39m\"\u001b[39m\n\u001b[0;32m----> <a href='vscode-notebook-cell://ssh-remote%2B10.149.197.87/home/satvik/lobule_v/CbmSim/scripts/forgetting/forgetting_analysis_figures.ipynb#W3sdnNjb2RlLXJlbW90ZQ%3D%3D?line=5'>6</a>\u001b[0m FULL_CRS \u001b[39m=\u001b[39m calc_cr_amp_per_isi(ISIS, input_dir\u001b[39m=\u001b[39;49mFULL_INPUT_DIR, basename\u001b[39m=\u001b[39;49mFULL_BASENAME)\n",
      "\u001b[1;32m/home/satvik/lobule_v/CbmSim/scripts/forgetting/forgetting_analysis_figures.ipynb Cell 4\u001b[0m line \u001b[0;36m2\n\u001b[1;32m     <a href='vscode-notebook-cell://ssh-remote%2B10.149.197.87/home/satvik/lobule_v/CbmSim/scripts/forgetting/forgetting_analysis_figures.ipynb#W3sdnNjb2RlLXJlbW90ZQ%3D%3D?line=14'>15</a>\u001b[0m pc_rasters \u001b[39m=\u001b[39m cbm_pack\u001b[39m.\u001b[39mnp_arr_from_file(reset_pc_file, np\u001b[39m.\u001b[39muint8)\n\u001b[1;32m     <a href='vscode-notebook-cell://ssh-remote%2B10.149.197.87/home/satvik/lobule_v/CbmSim/scripts/forgetting/forgetting_analysis_figures.ipynb#W3sdnNjb2RlLXJlbW90ZQ%3D%3D?line=15'>16</a>\u001b[0m pc_rasters \u001b[39m=\u001b[39m cbm_pack\u001b[39m.\u001b[39mreshape_raster( \\\n\u001b[1;32m     <a href='vscode-notebook-cell://ssh-remote%2B10.149.197.87/home/satvik/lobule_v/CbmSim/scripts/forgetting/forgetting_analysis_figures.ipynb#W3sdnNjb2RlLXJlbW90ZQ%3D%3D?line=16'>17</a>\u001b[0m         pc_rasters, \\\n\u001b[1;32m     <a href='vscode-notebook-cell://ssh-remote%2B10.149.197.87/home/satvik/lobule_v/CbmSim/scripts/forgetting/forgetting_analysis_figures.ipynb#W3sdnNjb2RlLXJlbW90ZQ%3D%3D?line=17'>18</a>\u001b[0m         cell_nums[\u001b[39m\"\u001b[39m\u001b[39mpc\u001b[39m\u001b[39m\"\u001b[39m], \\\n\u001b[1;32m     <a href='vscode-notebook-cell://ssh-remote%2B10.149.197.87/home/satvik/lobule_v/CbmSim/scripts/forgetting/forgetting_analysis_figures.ipynb#W3sdnNjb2RlLXJlbW90ZQ%3D%3D?line=18'>19</a>\u001b[0m         NUM_TRIALS, \\\n\u001b[1;32m     <a href='vscode-notebook-cell://ssh-remote%2B10.149.197.87/home/satvik/lobule_v/CbmSim/scripts/forgetting/forgetting_analysis_figures.ipynb#W3sdnNjb2RlLXJlbW90ZQ%3D%3D?line=19'>20</a>\u001b[0m         num_collect_ts)\n\u001b[0;32m---> <a href='vscode-notebook-cell://ssh-remote%2B10.149.197.87/home/satvik/lobule_v/CbmSim/scripts/forgetting/forgetting_analysis_figures.ipynb#W3sdnNjb2RlLXJlbW90ZQ%3D%3D?line=21'>22</a>\u001b[0m pc_reset_crs \u001b[39m=\u001b[39m cbm_pack\u001b[39m.\u001b[39;49mpcs_to_crs(pc_rasters, PRE_CS_COLLECT_TS, POST_CS_COLLECT_TS, isi)\n\u001b[1;32m     <a href='vscode-notebook-cell://ssh-remote%2B10.149.197.87/home/satvik/lobule_v/CbmSim/scripts/forgetting/forgetting_analysis_figures.ipynb#W3sdnNjb2RlLXJlbW90ZQ%3D%3D?line=23'>24</a>\u001b[0m crs_per_trial \u001b[39m=\u001b[39m np\u001b[39m.\u001b[39mmax(pc_reset_crs, axis\u001b[39m=\u001b[39m\u001b[39m1\u001b[39m)\n\u001b[1;32m     <a href='vscode-notebook-cell://ssh-remote%2B10.149.197.87/home/satvik/lobule_v/CbmSim/scripts/forgetting/forgetting_analysis_figures.ipynb#W3sdnNjb2RlLXJlbW90ZQ%3D%3D?line=24'>25</a>\u001b[0m \u001b[39mprint\u001b[39m(crs_per_trial\u001b[39m.\u001b[39mshape)\n",
      "File \u001b[0;32m~/lobule_v/CbmSim/scripts/forgetting/cbm_pack/cbm_pack/analysis.py:27\u001b[0m, in \u001b[0;36mpcs_to_crs\u001b[0;34m(pc_rasters, pre_cs_collect, post_cs_collect, isi)\u001b[0m\n\u001b[1;32m     24\u001b[0m base_interval_high \u001b[39m=\u001b[39m \u001b[39mint\u001b[39m(\u001b[39m0.75\u001b[39m \u001b[39m*\u001b[39m pre_cs_collect)\n\u001b[1;32m     25\u001b[0m crs \u001b[39m=\u001b[39m np\u001b[39m.\u001b[39mzeros((num_trials, num_ts_per_trial))\n\u001b[0;32m---> 27\u001b[0m smooth_inst_frs \u001b[39m=\u001b[39m calc_smooth_inst_fire_rates_from_raster(pc_rasters, kernel_type\u001b[39m=\u001b[39;49m\u001b[39m\"\u001b[39;49m\u001b[39mgaussian\u001b[39;49m\u001b[39m\"\u001b[39;49m)\n\u001b[1;32m     28\u001b[0m mean_smooth_inst_frs \u001b[39m=\u001b[39m np\u001b[39m.\u001b[39mmean(smooth_inst_frs, axis\u001b[39m=\u001b[39m\u001b[39m0\u001b[39m)\n\u001b[1;32m     29\u001b[0m amp_ests \u001b[39m=\u001b[39m np\u001b[39m.\u001b[39mzeros(num_trials)\n",
      "File \u001b[0;32m~/lobule_v/CbmSim/scripts/forgetting/cbm_pack/cbm_pack/transform.py:145\u001b[0m, in \u001b[0;36mcalc_smooth_inst_fire_rates_from_raster\u001b[0;34m(input_data, kernel_type, kernel_loc, kernel_scale, kernel_scale_mult)\u001b[0m\n\u001b[1;32m    139\u001b[0m \u001b[39mdef\u001b[39;00m \u001b[39mcalc_smooth_inst_fire_rates_from_raster\u001b[39m(input_data: np\u001b[39m.\u001b[39mndarray,\n\u001b[1;32m    140\u001b[0m     kernel_type: \u001b[39mstr\u001b[39m \u001b[39m=\u001b[39m \u001b[39m\"\u001b[39m\u001b[39mhalf_gaussian\u001b[39m\u001b[39m\"\u001b[39m, \\\n\u001b[1;32m    141\u001b[0m     kernel_loc: \u001b[39mfloat\u001b[39m \u001b[39m=\u001b[39m \u001b[39m0.0\u001b[39m, \\\n\u001b[1;32m    142\u001b[0m     kernel_scale: \u001b[39mfloat\u001b[39m \u001b[39m=\u001b[39m \u001b[39m10.0\u001b[39m, \\\n\u001b[1;32m    143\u001b[0m     kernel_scale_mult: \u001b[39mfloat\u001b[39m \u001b[39m=\u001b[39m \u001b[39m8.0\u001b[39m) \u001b[39m-\u001b[39m\u001b[39m>\u001b[39m np\u001b[39m.\u001b[39mndarray:\n\u001b[1;32m    144\u001b[0m     \u001b[39mtry\u001b[39;00m:\n\u001b[0;32m--> 145\u001b[0m         inst_fr \u001b[39m=\u001b[39m calc_inst_fire_rates_from(input_data)\n\u001b[1;32m    146\u001b[0m     \u001b[39mexcept\u001b[39;00m \u001b[39mValueError\u001b[39;00m \u001b[39mas\u001b[39;00m v_err:\n\u001b[1;32m    147\u001b[0m         \u001b[39mraise\u001b[39;00m \u001b[39mValueError\u001b[39;00m(v_err)\n",
      "File \u001b[0;32m~/lobule_v/CbmSim/scripts/forgetting/cbm_pack/cbm_pack/transform.py:127\u001b[0m, in \u001b[0;36mcalc_inst_fire_rates_from\u001b[0;34m(input_data, data_type, num_trials)\u001b[0m\n\u001b[1;32m    125\u001b[0m         frs \u001b[39m=\u001b[39m np\u001b[39m.\u001b[39mzeros(input_data\u001b[39m.\u001b[39mshape)\n\u001b[1;32m    126\u001b[0m         \u001b[39mfor\u001b[39;00m cell_id \u001b[39min\u001b[39;00m np\u001b[39m.\u001b[39marange(num_cells):\n\u001b[0;32m--> 127\u001b[0m             frs[cell_id] \u001b[39m=\u001b[39m calc_inst_fire_rates_from_rast_1d( \\\n\u001b[1;32m    128\u001b[0m                 input_data[cell_id]\u001b[39m.\u001b[39;49mreshape(num_trials \u001b[39m*\u001b[39;49m num_ts_per_trial))\u001b[39m.\u001b[39mreshape(num_trials, num_ts_per_trial)\n\u001b[1;32m    129\u001b[0m         \u001b[39mreturn\u001b[39;00m frs\n\u001b[1;32m    130\u001b[0m \u001b[39melse\u001b[39;00m:\n",
      "File \u001b[0;32m~/lobule_v/CbmSim/scripts/forgetting/cbm_pack/cbm_pack/transform.py:91\u001b[0m, in \u001b[0;36mcalc_inst_fire_rates_from_rast_1d\u001b[0;34m(spike_train)\u001b[0m\n\u001b[1;32m     89\u001b[0m \u001b[39mfor\u001b[39;00m i \u001b[39min\u001b[39;00m np\u001b[39m.\u001b[39marange(spike_train_proxy\u001b[39m.\u001b[39msize):\n\u001b[1;32m     90\u001b[0m     aligned_inst_fire_rates\u001b[39m.\u001b[39mappend(inst_fire_rates[count])\n\u001b[0;32m---> 91\u001b[0m     \u001b[39mif\u001b[39;00m spike_train_proxy[i] \u001b[39m==\u001b[39m \u001b[39m1\u001b[39m:\n\u001b[1;32m     92\u001b[0m         count \u001b[39m+\u001b[39m\u001b[39m=\u001b[39m \u001b[39m1\u001b[39m\n\u001b[1;32m     93\u001b[0m aligned_inst_fire_rates \u001b[39m=\u001b[39m np\u001b[39m.\u001b[39marray(aligned_inst_fire_rates)\n",
      "\u001b[0;31mKeyboardInterrupt\u001b[0m: "
     ]
    }
   ],
   "source": [
    "ISIS = [200, 500, 1000, 1500]\n",
    "\n",
    "FULL_INPUT_DIR= f\"/home/satvik/lobule_v/CbmSim/data/outputs/forgetting_bugaloo/acq_no_probe_ISI/\"\n",
    "FULL_BASENAME=f\"acq_no_probe_ISI\"\n",
    "\n",
    "FULL_CRS = calc_cr_amp_per_isi(ISIS, input_dir=FULL_INPUT_DIR, basename=FULL_BASENAME)"
   ]
  },
  {
   "cell_type": "code",
   "execution_count": null,
   "metadata": {},
   "outputs": [],
   "source": []
  }
 ],
 "metadata": {
  "kernelspec": {
   "display_name": "Python 3",
   "language": "python",
   "name": "python3"
  },
  "language_info": {
   "codemirror_mode": {
    "name": "ipython",
    "version": 3
   },
   "file_extension": ".py",
   "mimetype": "text/x-python",
   "name": "python",
   "nbconvert_exporter": "python",
   "pygments_lexer": "ipython3",
   "version": "3.10.12"
  }
 },
 "nbformat": 4,
 "nbformat_minor": 2
}
