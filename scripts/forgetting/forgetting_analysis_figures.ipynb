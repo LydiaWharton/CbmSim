{
 "cells": [
  {
   "cell_type": "code",
   "execution_count": 2,
   "metadata": {},
   "outputs": [],
   "source": [
    "import numpy as np\n",
    "import matplotlib as mpl\n",
    "import matplotlib.pyplot as plt\n",
    "from matplotlib.patches import Rectangle\n",
    "from matplotlib.colors import colorConverter\n",
    "from matplotlib.collections import LineCollection\n",
    "from mpl_toolkits.mplot3d import Axes3D\n",
    "import os\n",
    "import sys\n",
    "import cbm_pack.cbm_pack as cbm_pack\n",
    "\n",
    "from matplotlib import rcParams\n"
   ]
  },
  {
   "cell_type": "code",
   "execution_count": 5,
   "metadata": {},
   "outputs": [],
   "source": [
    "extensions = {\n",
    "    \"mf_raster\" : \".mfr\",\n",
    "    \"gr_raster\" : \".bin\",\n",
    "    \"go_raster\" : \".gor\",\n",
    "    \"pc_raster\" : \".pcr\",\n",
    "    \"bc_raster\" : \".bcr\",\n",
    "    \"sc_raster\" : \".scr\",\n",
    "    \"nc_raster\" : \".ncr\",\n",
    "    \"io_raster\" : \".ior\",\n",
    "    \"mf_psth\" : \".mfp\", \n",
    "    \"gr_psth\" : \".grp\",\n",
    "    \"go_psth\" : \".gop\",\n",
    "    \"pc_psth\" : \".pcp\",\n",
    "    \"bc_psth\" : \".bcp\",\n",
    "    \"sc_psth\" : \".scp\",\n",
    "    \"nc_psth\" : \".ncp\",\n",
    "    \"io_psth\" : \".iop\",\n",
    "    \"pfpc_weights\" : \".pfpcw\",\n",
    "    \"mfnc_weights\" : \".mfncw\"\n",
    "}\n",
    "\n",
    "cell_nums = {\n",
    "    \"mf\" : 4096,\n",
    "    \"gr\" : 2 ** 20,\n",
    "    \"go\" : 4096,\n",
    "    \"pc\" : 32,\n",
    "    \"bc\" : 128,\n",
    "    \"sc\" : 512,\n",
    "    \"nc\" : 8,\n",
    "    \"io\" : 4\n",
    "}\n",
    "\n",
    "MAX_CR_AMP = 6\n",
    "PRE_CS_COLLECT_TS = 400\n",
    "POST_CS_COLLECT_TS = 400\n",
    "\n",
    "NUM_PROBE_TRIALS = 50 \n",
    "\n",
    "# INPUT_DIR = \"./data/inputs/\"\n",
    "\n",
    "\n",
    "\n",
    "\n",
    "# INPUT_NC_FILE = INPUT_DIR + INPUT_BASE + \"/\" + INPUT_BASE + extensions[\"nc_raster\"]"
   ]
  },
  {
   "cell_type": "code",
   "execution_count": 6,
   "metadata": {},
   "outputs": [],
   "source": [
    "def calc_cr_amp_per_isi(isis: np.ndarray, input_dir, basename=''):\n",
    "\n",
    "    for isi in isis:\n",
    "        isi_crs = []\n",
    "  \n",
    "        reset_base = f\"{basename}_{isi}\"\n",
    "        reset_pc_file = f\"{input_dir}{reset_base}/{reset_base}{extensions['pc_raster']}\"\n",
    "\n",
    "        if isi < 1000:\n",
    "            NUM_TRIALS = 500\n",
    "        else:\n",
    "            NUM_TRIALS = 1000\n",
    "\n",
    "        num_collect_ts = PRE_CS_COLLECT_TS + isi + POST_CS_COLLECT_TS\n",
    "        pc_rasters = cbm_pack.np_arr_from_file(reset_pc_file, np.uint8)\n",
    "        pc_rasters = cbm_pack.reshape_raster( \\\n",
    "                pc_rasters, \\\n",
    "                cell_nums[\"pc\"], \\\n",
    "                NUM_TRIALS, \\\n",
    "                num_collect_ts)\n",
    "\n",
    "        pc_reset_crs = cbm_pack.pcs_to_crs(pc_rasters, PRE_CS_COLLECT_TS, POST_CS_COLLECT_TS, isi)\n",
    "\n",
    "        crs_per_ts = np.max(pc_reset_crs, axis=1)\n",
    "\n",
    "            \n",
    "\n",
    "        isi_crs.append(crs_per_ts)\n",
    "        print(f\"ISI {isi}: computed cr for final cr: {crs_per_ts[-1]}\")\n",
    "            \n",
    "    return isi_crs\n",
    "    \n",
    "    # final setup stuff"
   ]
  },
  {
   "cell_type": "code",
   "execution_count": 7,
   "metadata": {},
   "outputs": [],
   "source": [
    "ISIS = [1000, 1250, 1750]\n",
    "\n",
    "FULL_INPUT_DIR= f\"/home/satvik/lobule_v/CbmSim/data/outputs/forgetting_bugaloo/acq_no_probe_ISI/\"\n",
    "FULL_BASENAME=f\"acq_no_probe_ISI\"\n",
    "\n",
    "FULL_CRS = calc_cr_amp_per_isi(ISIS, input_dir=FULL_INPUT_DIR, basename=FULL_BASENAME)"
   ]
  },
  {
   "cell_type": "code",
   "execution_count": null,
   "metadata": {},
   "outputs": [],
   "source": []
  }
 ],
 "metadata": {
  "kernelspec": {
   "display_name": "Python 3",
   "language": "python",
   "name": "python3"
  },
  "language_info": {
   "codemirror_mode": {
    "name": "ipython",
    "version": 3
   },
   "file_extension": ".py",
   "mimetype": "text/x-python",
   "name": "python",
   "nbconvert_exporter": "python",
   "pygments_lexer": "ipython3",
   "version": "3.10.12"
  }
 },
 "nbformat": 4,
 "nbformat_minor": 2
}
